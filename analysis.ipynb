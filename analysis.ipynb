{
 "cells": [
  {
   "cell_type": "markdown",
   "id": "105ec164-8d7e-402c-8cd7-88b3f7bad54c",
   "metadata": {},
   "source": [
    "# Analyzing Sentiment of Financial Tweets"
   ]
  },
  {
   "cell_type": "markdown",
   "id": "5dc4c8e1-911c-4ea5-aba3-41279120ae75",
   "metadata": {},
   "source": [
    "### Imports"
   ]
  },
  {
   "cell_type": "code",
   "execution_count": 1,
   "id": "21e14783-769a-4b76-acbe-f829e2db6218",
   "metadata": {},
   "outputs": [],
   "source": [
    "import numpy as np\n",
    "import pandas as pd\n",
    "import twitter"
   ]
  },
  {
   "cell_type": "markdown",
   "id": "02759634-6a7c-4d3c-af00-cb720e9aee4d",
   "metadata": {},
   "source": [
    "## Set Up Twitter API"
   ]
  },
  {
   "cell_type": "code",
   "execution_count": 2,
   "id": "b64c1dee-ba20-402e-8a4f-a7c3cb6d12d4",
   "metadata": {},
   "outputs": [],
   "source": [
    "import config"
   ]
  },
  {
   "cell_type": "code",
   "execution_count": 4,
   "id": "4ce2d38c-a45a-4962-8585-2fe1abe7b63a",
   "metadata": {},
   "outputs": [],
   "source": [
    "api = twitter.Api(consumer_key=config.consumer_key,\n",
    "                  consumer_secret=config.consumer_secret,\n",
    "                  access_token_key=config.access_key,\n",
    "                  access_token_secret=config.access_secret)"
   ]
  },
  {
   "cell_type": "code",
   "execution_count": 6,
   "id": "e534c67f-4d4b-4e2b-9d0e-dd5f28dbc26f",
   "metadata": {},
   "outputs": [
    {
     "data": {
      "text/plain": [
       "[Status(ID=1414581582778748929, ScreenName=wef, Created=Mon Jul 12 13:45:05 +0000 2021, Text='McKinsey: These are the skills you will need for the future of work https://t.co/5HmSiyfLp7 #McKinsey #FutureOfWork https://t.co/9wFKhHvFyY')]"
      ]
     },
     "execution_count": 6,
     "metadata": {},
     "output_type": "execute_result"
    }
   ],
   "source": [
    "# see if api access is working\n",
    "api.GetSearch(term=\"McKinsey\", count=1)"
   ]
  },
  {
   "cell_type": "markdown",
   "id": "84e15134-6977-4960-835c-d32c82cc71c3",
   "metadata": {},
   "source": [
    "## Process Tweets"
   ]
  },
  {
   "cell_type": "code",
   "execution_count": null,
   "id": "a45680ba-42cf-424a-b4f2-b5fd8dd3dcf2",
   "metadata": {},
   "outputs": [],
   "source": []
  }
 ],
 "metadata": {
  "kernelspec": {
   "display_name": "Python 3 (ipykernel)",
   "language": "python",
   "name": "python3"
  },
  "language_info": {
   "codemirror_mode": {
    "name": "ipython",
    "version": 3
   },
   "file_extension": ".py",
   "mimetype": "text/x-python",
   "name": "python",
   "nbconvert_exporter": "python",
   "pygments_lexer": "ipython3",
   "version": "3.7.10"
  }
 },
 "nbformat": 4,
 "nbformat_minor": 5
}
